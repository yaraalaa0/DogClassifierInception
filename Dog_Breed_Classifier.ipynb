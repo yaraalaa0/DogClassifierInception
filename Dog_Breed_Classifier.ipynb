{
 "cells": [
  {
   "cell_type": "code",
   "execution_count": 100,
   "metadata": {},
   "outputs": [],
   "source": [
    "from sklearn.datasets import load_files       \n",
    "from keras.utils import np_utils\n",
    "import numpy as np\n",
    "from glob import glob"
   ]
  },
  {
   "cell_type": "code",
   "execution_count": 85,
   "metadata": {},
   "outputs": [],
   "source": [
    "root_dir = 'Images_split'\n",
    "dog_names = [item[7:-1] for item in sorted(glob(\"Images/*/\"))]\n",
    "for i in range(len(dog_names)):\n",
    "    os.makedirs(root_dir +'/train' + '/' + dog_names[i])\n",
    "    os.makedirs(root_dir +'/val' + '/'+ dog_names[i])\n",
    "    os.makedirs(root_dir +'/test' + '/' +dog_names[i])"
   ]
  },
  {
   "cell_type": "code",
   "execution_count": 86,
   "metadata": {},
   "outputs": [],
   "source": [
    "src = 'Images'\n",
    "train_im = []\n",
    "val_im = []\n",
    "test_im = []\n",
    "for i in range(len(dog_names)):\n",
    "    file_images = os.listdir(src+ \"/\" + dog_names[i])\n",
    "    train_FileNames, val_FileNames, test_FileNames = np.split(np.array(file_images),\n",
    "                                                          [int(len(file_images)*0.7), int(len(file_images)*0.85)])\n",
    "    train_FileNames = [src+'/'+ dog_names[i] + '/' + name for name in train_FileNames.tolist()]\n",
    "    val_FileNames = [src+'/' + dog_names[i] + '/' + name for name in val_FileNames.tolist()]\n",
    "    test_FileNames = [src+'/' + dog_names[i] + '/' + name for name in test_FileNames.tolist()]\n",
    "    for name in train_FileNames:\n",
    "        shutil.copy(name, \"Images_split/train\"+'/' + dog_names[i])\n",
    "    for name in val_FileNames:\n",
    "        shutil.copy(name, \"Images_split/val\"+'/' + dog_names[i])\n",
    "    for name in test_FileNames:\n",
    "        shutil.copy(name, \"Images_split/test\"+'/' + dog_names[i])\n",
    "    "
   ]
  },
  {
   "cell_type": "code",
   "execution_count": 2,
   "metadata": {},
   "outputs": [
    {
     "name": "stdout",
     "output_type": "stream",
     "text": [
      "There are 120 total dog categories.\n",
      "There are 20580 total dog images.\n",
      "\n",
      "There are 14355 training dog images.\n",
      "There are 3084 validation dog images.\n",
      "There are 3141 test dog images.\n"
     ]
    }
   ],
   "source": [
    "# function to load train, test, and validation datasets\n",
    "def load_dataset(path):\n",
    "    data = load_files(path)\n",
    "    dog_files = np.array(data['filenames'])\n",
    "    dog_targets = np_utils.to_categorical(np.array(data['target']), 120)\n",
    "    return dog_files, dog_targets\n",
    "\n",
    "# train, test, and validation datasets\n",
    "train_files, train_targets = load_dataset(\"Images_split/train\")\n",
    "valid_files, valid_targets = load_dataset(\"Images_split/val\")\n",
    "test_files, test_targets = load_dataset(\"Images_split/test\")\n",
    "\n",
    "# list of dog names\n",
    "dog_names = [item[15:-1] for item in sorted(glob(\"Images_split/train/*/\"))]\n",
    "\n",
    "# statistics about the dataset\n",
    "print('There are %d total dog categories.' % len(dog_names))\n",
    "print('There are %s total dog images.\\n' % len(np.hstack([train_files, valid_files, test_files])))\n",
    "print('There are %d training dog images.' % len(train_files))\n",
    "print('There are %d validation dog images.' % len(valid_files))\n",
    "print('There are %d test dog images.'% len(test_files))"
   ]
  },
  {
   "cell_type": "code",
   "execution_count": 101,
   "metadata": {},
   "outputs": [],
   "source": [
    "import numpy as np\n",
    "from keras.preprocessing.image import ImageDataGenerator\n",
    "from keras.layers import Conv2D, MaxPooling2D, GlobalAveragePooling2D\n",
    "from keras.models import Sequential\n",
    "from keras.layers import Dropout, Flatten, Dense, BatchNormalization, Activation\n",
    "from keras import applications\n",
    "#from keras.applications.xception import Xception, preprocess_input\n",
    "from keras.applications.inception_v3 import InceptionV3, preprocess_input"
   ]
  },
  {
   "cell_type": "code",
   "execution_count": 1,
   "metadata": {},
   "outputs": [],
   "source": [
    "def save_bottlebeck_features():\n",
    "    datagen = ImageDataGenerator(rescale=1. / 255, preprocessing_function=preprocess_input)\n",
    "\n",
    "    # build the VGG16 network\n",
    "    model = InceptionV3(include_top=False, weights='imagenet')\n",
    "    \n",
    "    #datagen.flow(train_files, train_targets, batch_size=32)\n",
    "    generator = datagen.flow_from_directory(\n",
    "        train_data_dir,\n",
    "        target_size=(img_width, img_height),\n",
    "        batch_size=batch_size,\n",
    "        class_mode=None,\n",
    "        shuffle=False)\n",
    "    bottleneck_features_train = model.predict_generator(\n",
    "        generator, (nb_train_samples // batch_size)+1, use_multiprocessing=True, verbose =1)\n",
    "    np.save(open('bottleneck_features_train_inc.npy', 'wb'),\n",
    "            bottleneck_features_train)\n",
    "\n",
    "    generator = datagen.flow_from_directory(\n",
    "        validation_data_dir,\n",
    "        target_size=(img_width, img_height),\n",
    "        batch_size=batch_size,\n",
    "        class_mode=None,\n",
    "        shuffle=False)\n",
    "    bottleneck_features_validation = model.predict_generator(\n",
    "        generator, (nb_validation_samples // batch_size)+1,use_multiprocessing=True, verbose=1 )\n",
    "    np.save(open('bottleneck_features_validation_inc.npy', 'wb'),\n",
    "            bottleneck_features_validation)\n",
    "    \n",
    "    generator = datagen.flow_from_directory(\n",
    "        test_data_dir,\n",
    "        target_size=(img_width, img_height),\n",
    "        batch_size=batch_size,\n",
    "        class_mode=None,\n",
    "        shuffle=False)\n",
    "    bottleneck_features_test = model.predict_generator(\n",
    "        generator, (nb_test_samples//batch_size)+1, use_multiprocessing=True, verbose=1)\n",
    "    np.save(open('bottleneck_features_test_inc.npy', 'wb'),\n",
    "            bottleneck_features_test)\n"
   ]
  },
  {
   "cell_type": "code",
   "execution_count": 102,
   "metadata": {},
   "outputs": [],
   "source": [
    "import numpy as np  \n",
    "from keras.preprocessing.image import ImageDataGenerator, img_to_array, load_img  \n",
    "from keras.models import Sequential  \n",
    "from keras.layers import Dropout, Flatten, Dense \n",
    "from keras.layers import Conv2D, MaxPooling2D, GlobalAveragePooling2D\n",
    "from keras import applications  \n",
    "from keras.utils.np_utils import to_categorical  \n",
    "import matplotlib.pyplot as plt  \n",
    "import math  \n",
    "import cv2  "
   ]
  },
  {
   "cell_type": "code",
   "execution_count": 103,
   "metadata": {},
   "outputs": [],
   "source": [
    "# dimensions of our images.  \n",
    "img_width, img_height = 224, 224  \n",
    "   \n",
    "top_model_weights_path = 'bottleneck_fc_model_resnet.h5'  \n",
    "train_data_dir = 'Images_split/train'  \n",
    "validation_data_dir = 'Images_split/val'\n",
    "test_data_dir = 'Images_split/test'\n",
    "   \n",
    " # number of epochs to train top model  \n",
    "epochs = 100  \n",
    " # batch size used by flow_from_directory and predict_generator  \n",
    "batch_size = 128"
   ]
  },
  {
   "cell_type": "code",
   "execution_count": 88,
   "metadata": {},
   "outputs": [],
   "source": [
    "model = applications.ResNet50(include_top=False, weights='imagenet')  "
   ]
  },
  {
   "cell_type": "code",
   "execution_count": 89,
   "metadata": {},
   "outputs": [
    {
     "name": "stdout",
     "output_type": "stream",
     "text": [
      "Found 14355 images belonging to 120 classes.\n",
      "113/113 [==============================] - 125s 1s/step\n"
     ]
    }
   ],
   "source": [
    "datagen = ImageDataGenerator(rescale=1. / 255)  \n",
    "generator = datagen.flow_from_directory(  \n",
    "     train_data_dir,  \n",
    "     target_size=(img_width, img_height),  \n",
    "     batch_size=batch_size,  \n",
    "     class_mode=None,  \n",
    "     shuffle=False)  \n",
    "   \n",
    "nb_train_samples = len(generator.filenames)  \n",
    "num_classes = len(generator.class_indices)  \n",
    "   \n",
    "predict_size_train = int(math.ceil(nb_train_samples / batch_size))  \n",
    "   \n",
    "bottleneck_features_train = model.predict_generator(generator, predict_size_train, use_multiprocessing=True, verbose =1)  \n",
    "   \n",
    "np.save('bottleneck_features_train_r.npy', bottleneck_features_train) "
   ]
  },
  {
   "cell_type": "code",
   "execution_count": 90,
   "metadata": {},
   "outputs": [
    {
     "name": "stdout",
     "output_type": "stream",
     "text": [
      "Found 3141 images belonging to 120 classes.\n",
      "25/25 [==============================] - 30s 1s/step\n"
     ]
    }
   ],
   "source": [
    "generator = datagen.flow_from_directory(  \n",
    "     test_data_dir,  \n",
    "     target_size=(img_width, img_height),  \n",
    "     batch_size=batch_size,  \n",
    "     class_mode=None,  \n",
    "     shuffle=False)  \n",
    "   \n",
    "nb_test_samples = len(generator.filenames)  \n",
    "   \n",
    "predict_size_test = int(math.ceil(nb_test_samples / batch_size))  \n",
    "   \n",
    "bottleneck_features_test = model.predict_generator(generator, predict_size_test, use_multiprocessing=True, verbose =1)  \n",
    "   \n",
    "np.save('bottleneck_features_test_r.npy', bottleneck_features_test) "
   ]
  },
  {
   "cell_type": "code",
   "execution_count": 91,
   "metadata": {},
   "outputs": [
    {
     "name": "stdout",
     "output_type": "stream",
     "text": [
      "Found 3141 images belonging to 120 classes.\n"
     ]
    }
   ],
   "source": [
    "datagen_top = ImageDataGenerator(rescale=1./255)  \n",
    "generator_top = datagen_top.flow_from_directory(  \n",
    "         test_data_dir,  \n",
    "         target_size=(img_width, img_height),  \n",
    "         batch_size=batch_size,  \n",
    "         class_mode='categorical',  \n",
    "         shuffle=False)  \n",
    "   \n",
    "nb_test_samples = len(generator_top.filenames)  \n",
    "num_classes = len(generator_top.class_indices)  \n",
    "   \n",
    " # load the bottleneck features saved earlier  \n",
    "test_data = np.load('bottleneck_features_test_r.npy')  \n",
    "   \n",
    " # get the class lebels for the training data, in the original order  \n",
    "test_labels = generator_top.classes  \n",
    "   \n",
    " # convert the training labels to categorical vectors  \n",
    "test_labels = to_categorical(test_labels, num_classes=num_classes)  "
   ]
  },
  {
   "cell_type": "code",
   "execution_count": 104,
   "metadata": {},
   "outputs": [
    {
     "data": {
      "text/plain": [
       "(14355, 7, 7, 2048)"
      ]
     },
     "execution_count": 104,
     "metadata": {},
     "output_type": "execute_result"
    }
   ],
   "source": [
    "train_data.shape"
   ]
  },
  {
   "cell_type": "code",
   "execution_count": 93,
   "metadata": {},
   "outputs": [
    {
     "name": "stdout",
     "output_type": "stream",
     "text": [
      "Found 3084 images belonging to 120 classes.\n",
      "25/25 [==============================] - 28s 1s/step\n"
     ]
    }
   ],
   "source": [
    "generator = datagen.flow_from_directory(  \n",
    "     validation_data_dir,  \n",
    "     target_size=(img_width, img_height),  \n",
    "     batch_size=batch_size,  \n",
    "     class_mode=None,  \n",
    "     shuffle=False)  \n",
    "   \n",
    "nb_validation_samples = len(generator.filenames)  \n",
    "   \n",
    "predict_size_validation = int(math.ceil(nb_validation_samples / batch_size))  \n",
    "   \n",
    "bottleneck_features_validation = model.predict_generator(generator, predict_size_validation, use_multiprocessing=True, verbose =1)  \n",
    "   \n",
    "np.save('bottleneck_features_validation_r.npy', bottleneck_features_validation) "
   ]
  },
  {
   "cell_type": "code",
   "execution_count": 94,
   "metadata": {},
   "outputs": [
    {
     "name": "stdout",
     "output_type": "stream",
     "text": [
      "Found 14355 images belonging to 120 classes.\n"
     ]
    }
   ],
   "source": [
    "datagen_top = ImageDataGenerator(rescale=1./255)  \n",
    "generator_top = datagen_top.flow_from_directory(  \n",
    "         train_data_dir,  \n",
    "         target_size=(img_width, img_height),  \n",
    "         batch_size=batch_size,  \n",
    "         class_mode='categorical',  \n",
    "         shuffle=False)  \n",
    "   \n",
    "nb_train_samples = len(generator_top.filenames)  \n",
    "num_classes = len(generator_top.class_indices)  \n",
    "   \n",
    " # load the bottleneck features saved earlier  \n",
    "train_data = np.load('bottleneck_features_train_r.npy')  \n",
    "   \n",
    " # get the class lebels for the training data, in the original order  \n",
    "train_labels = generator_top.classes  \n",
    "   \n",
    " # convert the training labels to categorical vectors  \n",
    "train_labels = to_categorical(train_labels, num_classes=num_classes)  "
   ]
  },
  {
   "cell_type": "code",
   "execution_count": 95,
   "metadata": {},
   "outputs": [
    {
     "name": "stdout",
     "output_type": "stream",
     "text": [
      "Found 3084 images belonging to 120 classes.\n"
     ]
    }
   ],
   "source": [
    "generator_top = datagen_top.flow_from_directory(  \n",
    "         validation_data_dir,  \n",
    "         target_size=(img_width, img_height),  \n",
    "         batch_size=batch_size,  \n",
    "         class_mode=None,  \n",
    "         shuffle=False)  \n",
    "   \n",
    "nb_validation_samples = len(generator_top.filenames)  \n",
    "   \n",
    "validation_data = np.load('bottleneck_features_validation_r.npy')  \n",
    "   \n",
    "validation_labels = generator_top.classes  \n",
    "validation_labels = to_categorical(validation_labels, num_classes=num_classes)  "
   ]
  },
  {
   "cell_type": "code",
   "execution_count": 107,
   "metadata": {},
   "outputs": [
    {
     "data": {
      "text/plain": [
       "(14355, 120)"
      ]
     },
     "execution_count": 107,
     "metadata": {},
     "output_type": "execute_result"
    }
   ],
   "source": [
    "train_labels.shape"
   ]
  },
  {
   "cell_type": "code",
   "execution_count": 108,
   "metadata": {},
   "outputs": [
    {
     "name": "stdout",
     "output_type": "stream",
     "text": [
      "Found 14355 images belonging to 120 classes.\n"
     ]
    }
   ],
   "source": [
    "datagen_top = ImageDataGenerator(rescale=1./255)  \n",
    "generator_top = datagen_top.flow_from_directory(  \n",
    "         train_data_dir,  \n",
    "         target_size=(img_width, img_height),  \n",
    "         batch_size=batch_size,  \n",
    "         class_mode='categorical',  \n",
    "         shuffle=False)  \n",
    "   \n",
    "nb_train_samples = len(generator_top.filenames)  \n",
    "num_classes = len(generator_top.class_indices)  \n",
    "   \n",
    " # load the bottleneck features saved earlier  \n",
    "train_data_n = np.load('bottleneck_features_train_n.npy')  \n",
    "   \n",
    " # get the class lebels for the training data, in the original order  \n",
    "train_labels_n = generator_top.classes  \n",
    "   \n",
    " # convert the training labels to categorical vectors  \n",
    "train_labels_n = to_categorical(train_labels_n, num_classes=num_classes)  "
   ]
  },
  {
   "cell_type": "code",
   "execution_count": 109,
   "metadata": {},
   "outputs": [
    {
     "data": {
      "text/plain": [
       "(14355, 120)"
      ]
     },
     "execution_count": 109,
     "metadata": {},
     "output_type": "execute_result"
    }
   ],
   "source": [
    "train_labels_n.shape"
   ]
  },
  {
   "cell_type": "code",
   "execution_count": 110,
   "metadata": {},
   "outputs": [
    {
     "name": "stdout",
     "output_type": "stream",
     "text": [
      "Found 3141 images belonging to 120 classes.\n"
     ]
    }
   ],
   "source": [
    "datagen_top = ImageDataGenerator(rescale=1./255)  \n",
    "generator_top = datagen_top.flow_from_directory(  \n",
    "         test_data_dir,  \n",
    "         target_size=(img_width, img_height),  \n",
    "         batch_size=batch_size,  \n",
    "         class_mode='categorical',  \n",
    "         shuffle=False)  \n",
    "   \n",
    "nb_test_samples = len(generator_top.filenames)  \n",
    "num_classes = len(generator_top.class_indices)  \n",
    "   \n",
    " # load the bottleneck features saved earlier  \n",
    "test_data_n = np.load('bottleneck_features_test_n.npy')  \n",
    "   \n",
    " # get the class lebels for the training data, in the original order  \n",
    "test_labels_n = generator_top.classes  \n",
    "   \n",
    " # convert the training labels to categorical vectors  \n",
    "test_labels_n = to_categorical(test_labels_n, num_classes=num_classes)  "
   ]
  },
  {
   "cell_type": "code",
   "execution_count": 111,
   "metadata": {},
   "outputs": [
    {
     "name": "stdout",
     "output_type": "stream",
     "text": [
      "Found 3084 images belonging to 120 classes.\n"
     ]
    }
   ],
   "source": [
    "generator_top = datagen_top.flow_from_directory(  \n",
    "         validation_data_dir,  \n",
    "         target_size=(img_width, img_height),  \n",
    "         batch_size=batch_size,  \n",
    "         class_mode=None,  \n",
    "         shuffle=False)  \n",
    "   \n",
    "nb_validation_samples = len(generator_top.filenames)  \n",
    "   \n",
    "validation_data_n = np.load('bottleneck_features_validation_n.npy')  \n",
    "   \n",
    "validation_labels_n = generator_top.classes  \n",
    "validation_labels_n = to_categorical(validation_labels_n, num_classes=num_classes)  "
   ]
  },
  {
   "cell_type": "code",
   "execution_count": 113,
   "metadata": {},
   "outputs": [
    {
     "data": {
      "text/plain": [
       "(14355, 5, 5, 2048)"
      ]
     },
     "execution_count": 113,
     "metadata": {},
     "output_type": "execute_result"
    }
   ],
   "source": [
    "train_data_n.shape"
   ]
  },
  {
   "cell_type": "code",
   "execution_count": 117,
   "metadata": {},
   "outputs": [],
   "source": [
    "resnet_avg_model = Sequential()\n",
    "resnet_avg_model.add(GlobalAveragePooling2D(input_shape=train_data.shape[1:]))\n",
    "train_resnet = resnet_avg_model.predict(train_data)\n",
    "valid_resnet = resnet_avg_model.predict(validation_data)\n",
    "test_resnet  = resnet_avg_model.predict(test_data)"
   ]
  },
  {
   "cell_type": "code",
   "execution_count": 120,
   "metadata": {},
   "outputs": [
    {
     "data": {
      "text/plain": [
       "(14355, 7, 7, 2048)"
      ]
     },
     "execution_count": 120,
     "metadata": {},
     "output_type": "execute_result"
    }
   ],
   "source": [
    "train_data.shape"
   ]
  },
  {
   "cell_type": "code",
   "execution_count": 121,
   "metadata": {},
   "outputs": [
    {
     "data": {
      "text/plain": [
       "(5, 5, 2048)"
      ]
     },
     "execution_count": 121,
     "metadata": {},
     "output_type": "execute_result"
    }
   ],
   "source": [
    "train_data_n.shape[1:]"
   ]
  },
  {
   "cell_type": "code",
   "execution_count": 123,
   "metadata": {},
   "outputs": [
    {
     "data": {
      "text/plain": [
       "(14355, 2048)"
      ]
     },
     "execution_count": 123,
     "metadata": {},
     "output_type": "execute_result"
    }
   ],
   "source": [
    "train_resnet.shape"
   ]
  },
  {
   "cell_type": "code",
   "execution_count": 122,
   "metadata": {},
   "outputs": [],
   "source": [
    "incep_avg_model = Sequential()\n",
    "incep_avg_model.add(GlobalAveragePooling2D(input_shape=train_data_n.shape[1:]))\n",
    "train_incep = incep_avg_model.predict(train_data_n)\n",
    "valid_incep = incep_avg_model.predict(validation_data_n)\n",
    "test_incep  = incep_avg_model.predict(test_data_n)"
   ]
  },
  {
   "cell_type": "code",
   "execution_count": 124,
   "metadata": {},
   "outputs": [
    {
     "data": {
      "text/plain": [
       "(14355, 2048)"
      ]
     },
     "execution_count": 124,
     "metadata": {},
     "output_type": "execute_result"
    }
   ],
   "source": [
    "train_incep.shape"
   ]
  },
  {
   "cell_type": "code",
   "execution_count": 125,
   "metadata": {},
   "outputs": [],
   "source": [
    "train_both = np.concatenate((train_resnet,train_incep), axis=1)\n",
    "valid_both = np.concatenate((valid_resnet,valid_incep), axis=1)\n",
    "test_both = np.concatenate((test_resnet,test_incep), axis=1)"
   ]
  },
  {
   "cell_type": "code",
   "execution_count": 126,
   "metadata": {},
   "outputs": [
    {
     "data": {
      "text/plain": [
       "(14355, 4096)"
      ]
     },
     "execution_count": 126,
     "metadata": {},
     "output_type": "execute_result"
    }
   ],
   "source": [
    "train_both.shape"
   ]
  },
  {
   "cell_type": "code",
   "execution_count": 192,
   "metadata": {},
   "outputs": [
    {
     "name": "stdout",
     "output_type": "stream",
     "text": [
      "_________________________________________________________________\n",
      "Layer (type)                 Output Shape              Param #   \n",
      "=================================================================\n",
      "dropout_37 (Dropout)         (None, 4096)              0         \n",
      "_________________________________________________________________\n",
      "dense_53 (Dense)             (None, 120)               491640    \n",
      "=================================================================\n",
      "Total params: 491,640\n",
      "Trainable params: 491,640\n",
      "Non-trainable params: 0\n",
      "_________________________________________________________________\n"
     ]
    }
   ],
   "source": [
    "model = Sequential()  \n",
    "#model.add(GlobalAveragePooling2D(input_shape=train_both.shape[1:]))  \n",
    "#model.add(Dense(256, input_shape=train_both.shape[1:], activation='relu'))  \n",
    "model.add(Dropout(0.5, input_shape=train_both.shape[1:]))  \n",
    "model.add(Dense(num_classes, activation = 'softmax'))  \n",
    "model.summary()"
   ]
  },
  {
   "cell_type": "code",
   "execution_count": null,
   "metadata": {},
   "outputs": [],
   "source": [
    "from keras.callbacks import LearningRateScheduler\n",
    "\n",
    "sd=[]\n",
    "class LossHistory(keras.callbacks.Callback):\n",
    "    def on_train_begin(self, logs={}):\n",
    "        self.losses = [1,1]\n",
    "\n",
    "    def on_epoch_end(self, batch, logs={}):\n",
    "        self.losses.append(logs.get('loss'))\n",
    "        sd.append(step_decay(len(self.losses)))\n",
    "        print('lr:', step_decay(len(self.losses)))\n",
    "\n",
    "epochs = 100\n",
    "learning_rate = 0.01\n",
    "decay_rate = 5e-6\n",
    "momentum = 0.9\n",
    "\n",
    "#model=Sequential()\n",
    "#model.add(Dense(4, input_dim=2, init='uniform'))\n",
    "#model.add(Dense(1, init='uniform'))\n",
    "#sgd = SGD(lr=learning_rate,momentum=momentum, decay=decay_rate, nesterov=False)\n",
    "#model.compile(loss='mean_squared_error',optimizer=sgd,metrics=['mean_absolute_error'])\n",
    "\n",
    "def step_decay(losses):\n",
    "    if float(2*np.sqrt(np.array(history.losses[-1])))<0.3:\n",
    "        lrate=0.01*1/(1+0.1*len(history.losses))\n",
    "        #momentum=0.8\n",
    "        decay_rate=2e-6\n",
    "        return lrate\n",
    "    else:\n",
    "        lrate=0.01\n",
    "        return lrate\n",
    "history=LossHistory()\n",
    "lrate=LearningRateScheduler(step_decay)\n",
    "\n",
    "model.fit(X_train,y_train,nb_epoch=epochs,callbacks=[history,lrate],verbose=2)\n",
    "model.predict(X_test)"
   ]
  },
  {
   "cell_type": "code",
   "execution_count": 193,
   "metadata": {},
   "outputs": [
    {
     "name": "stdout",
     "output_type": "stream",
     "text": [
      "Train on 14355 samples, validate on 3084 samples\n",
      "Epoch 1/300\n",
      "14355/14355 [==============================] - 6s 450us/step - loss: 5.6174 - acc: 0.0083 - val_loss: 4.9163 - val_acc: 0.0139\n",
      "Epoch 2/300\n",
      "14355/14355 [==============================] - 1s 44us/step - loss: 5.2039 - acc: 0.0170 - val_loss: 4.5839 - val_acc: 0.0392\n",
      "Epoch 3/300\n",
      "14355/14355 [==============================] - 1s 46us/step - loss: 4.9051 - acc: 0.0291 - val_loss: 4.3125 - val_acc: 0.0879\n",
      "Epoch 4/300\n",
      "14355/14355 [==============================] - 1s 43us/step - loss: 4.6388 - acc: 0.0419 - val_loss: 4.0662 - val_acc: 0.1592\n",
      "Epoch 5/300\n",
      "14355/14355 [==============================] - 1s 44us/step - loss: 4.3897 - acc: 0.0653 - val_loss: 3.8331 - val_acc: 0.2383\n",
      "Epoch 6/300\n",
      "14355/14355 [==============================] - 1s 44us/step - loss: 4.1764 - acc: 0.0938 - val_loss: 3.6098 - val_acc: 0.3294\n",
      "Epoch 7/300\n",
      "14355/14355 [==============================] - 1s 43us/step - loss: 0.4854 - acc: 0.8463 - val_loss: 0.6121 - val_acc: 0.8200\n",
      "Epoch 171/300\n",
      "14355/14355 [==============================] - 1s 44us/step - loss: 0.4860 - acc: 0.8456 - val_loss: 0.6124 - val_acc: 0.8194\n",
      "Epoch 172/300\n",
      "14355/14355 [==============================] - 1s 44us/step - loss: 0.4844 - acc: 0.8467 - val_loss: 0.6123 - val_acc: 0.8210\n",
      "Epoch 173/300\n",
      "14355/14355 [==============================] - 1s 44us/step - loss: 0.4894 - acc: 0.8468 - val_loss: 0.6120 - val_acc: 0.8213\n",
      "Epoch 174/300\n",
      "14355/14355 [==============================] - 1s 43us/step - loss: 0.4853 - acc: 0.8476 - val_loss: 0.6119 - val_acc: 0.8207\n",
      "Epoch 175/300\n",
      "14355/14355 [==============================] - 1s 44us/step - loss: 0.4780 - acc: 0.8481 - val_loss: 0.6120 - val_acc: 0.8200\n",
      "Epoch 176/300\n",
      "14355/14355 [==============================] - 1s 44us/step - loss: 0.4808 - acc: 0.8477 - val_loss: 0.6119 - val_acc: 0.8210\n",
      "Epoch 177/300\n",
      "14355/14355 [==============================] - 1s 44us/step - loss: 0.4787 - acc: 0.8483 - val_loss: 0.6117 - val_acc: 0.8194\n",
      "Epoch 178/300\n",
      "14355/14355 [==============================] - 1s 45us/step - loss: 0.4764 - acc: 0.8507 - val_loss: 0.6113 - val_acc: 0.8207\n",
      "Epoch 179/300\n",
      "14355/14355 [==============================] - 1s 44us/step - loss: 0.4773 - acc: 0.8500 - val_loss: 0.6110 - val_acc: 0.8197\n",
      "Epoch 180/300\n",
      "14355/14355 [==============================] - 1s 45us/step - loss: 0.4782 - acc: 0.8511 - val_loss: 0.6112 - val_acc: 0.8197\n",
      "Epoch 181/300\n",
      "14355/14355 [==============================] - 1s 43us/step - loss: 0.4718 - acc: 0.8502 - val_loss: 0.6114 - val_acc: 0.8197\n",
      "Epoch 182/300\n",
      "14355/14355 [==============================] - 1s 43us/step - loss: 0.4681 - acc: 0.8509 - val_loss: 0.6116 - val_acc: 0.8181\n",
      "Epoch 183/300\n",
      "14355/14355 [==============================] - 1s 43us/step - loss: 0.4670 - acc: 0.8535 - val_loss: 0.6114 - val_acc: 0.8194\n",
      "Epoch 184/300\n",
      "14355/14355 [==============================] - 1s 43us/step - loss: 0.4688 - acc: 0.8527 - val_loss: 0.6116 - val_acc: 0.8200\n",
      "Epoch 185/300\n",
      "14355/14355 [==============================] - 1s 43us/step - loss: 0.4688 - acc: 0.8508 - val_loss: 0.6116 - val_acc: 0.8204\n",
      "Epoch 186/300\n",
      "14355/14355 [==============================] - 1s 43us/step - loss: 0.4666 - acc: 0.8536 - val_loss: 0.6117 - val_acc: 0.8187\n",
      "Epoch 187/300\n",
      "14355/14355 [==============================] - 1s 44us/step - loss: 0.4627 - acc: 0.8522 - val_loss: 0.6113 - val_acc: 0.8197\n",
      "Epoch 188/300\n",
      "14355/14355 [==============================] - 1s 45us/step - loss: 0.4647 - acc: 0.8545 - val_loss: 0.6111 - val_acc: 0.8200\n",
      "Epoch 189/300\n",
      "14355/14355 [==============================] - 1s 44us/step - loss: 0.4595 - acc: 0.8545 - val_loss: 0.6106 - val_acc: 0.8191\n",
      "Epoch 190/300\n",
      "14355/14355 [==============================] - 1s 44us/step - loss: 0.4622 - acc: 0.8543 - val_loss: 0.6103 - val_acc: 0.8197\n",
      "Epoch 191/300\n",
      "14355/14355 [==============================] - 1s 43us/step - loss: 0.4627 - acc: 0.8540 - val_loss: 0.6101 - val_acc: 0.8191\n",
      "Epoch 192/300\n",
      "14355/14355 [==============================] - 1s 43us/step - loss: 0.4618 - acc: 0.8549 - val_loss: 0.6098 - val_acc: 0.8200\n",
      "Epoch 193/300\n",
      "14355/14355 [==============================] - 1s 44us/step - loss: 0.4574 - acc: 0.8532 - val_loss: 0.6098 - val_acc: 0.8207\n",
      "Epoch 194/300\n",
      "14355/14355 [==============================] - 1s 44us/step - loss: 0.4564 - acc: 0.8565 - val_loss: 0.6100 - val_acc: 0.8210\n",
      "Epoch 195/300\n",
      "14355/14355 [==============================] - 1s 43us/step - loss: 0.4611 - acc: 0.8560 - val_loss: 0.6105 - val_acc: 0.8210\n",
      "Epoch 196/300\n",
      "14355/14355 [==============================] - 1s 44us/step - loss: 0.4569 - acc: 0.8550 - val_loss: 0.6106 - val_acc: 0.8194\n",
      "Epoch 197/300\n",
      "14355/14355 [==============================] - 1s 46us/step - loss: 0.4587 - acc: 0.8563 - val_loss: 0.6101 - val_acc: 0.8194\n",
      "Epoch 198/300\n",
      "14355/14355 [==============================] - 1s 45us/step - loss: 0.4554 - acc: 0.8552 - val_loss: 0.6102 - val_acc: 0.8213\n",
      "Epoch 199/300\n",
      "14355/14355 [==============================] - 1s 45us/step - loss: 0.4505 - acc: 0.8619 - val_loss: 0.6103 - val_acc: 0.8210\n",
      "Epoch 200/300\n",
      "14355/14355 [==============================] - 1s 45us/step - loss: 0.4555 - acc: 0.8548 - val_loss: 0.6102 - val_acc: 0.8220\n",
      "Epoch 201/300\n",
      "14355/14355 [==============================] - 1s 46us/step - loss: 0.4521 - acc: 0.8598 - val_loss: 0.6104 - val_acc: 0.8210\n",
      "Epoch 202/300\n",
      "14355/14355 [==============================] - 1s 47us/step - loss: 0.4501 - acc: 0.8600 - val_loss: 0.6109 - val_acc: 0.8197\n",
      "Epoch 203/300\n",
      "14355/14355 [==============================] - 1s 46us/step - loss: 0.4535 - acc: 0.8545 - val_loss: 0.6107 - val_acc: 0.8200\n",
      "Epoch 204/300\n",
      "14355/14355 [==============================] - 1s 45us/step - loss: 0.4444 - acc: 0.8582 - val_loss: 0.6106 - val_acc: 0.8194\n",
      "Epoch 205/300\n",
      "14355/14355 [==============================] - 1s 44us/step - loss: 0.4442 - acc: 0.8614 - val_loss: 0.6104 - val_acc: 0.8213\n",
      "Epoch 206/300\n",
      "14355/14355 [==============================] - 1s 44us/step - loss: 0.4472 - acc: 0.8596 - val_loss: 0.6107 - val_acc: 0.8210\n",
      "Epoch 207/300\n",
      "14355/14355 [==============================] - 1s 45us/step - loss: 0.4417 - acc: 0.8603 - val_loss: 0.6109 - val_acc: 0.8197\n",
      "Epoch 208/300\n",
      "14355/14355 [==============================] - 1s 45us/step - loss: 0.4421 - acc: 0.8588 - val_loss: 0.6113 - val_acc: 0.8187\n",
      "Epoch 209/300\n",
      "14355/14355 [==============================] - 1s 45us/step - loss: 0.4380 - acc: 0.8642 - val_loss: 0.6109 - val_acc: 0.8197\n",
      "Epoch 210/300\n",
      "14355/14355 [==============================] - 1s 45us/step - loss: 0.4411 - acc: 0.8610 - val_loss: 0.6108 - val_acc: 0.8197\n",
      "Epoch 211/300\n",
      "14355/14355 [==============================] - 1s 45us/step - loss: 0.4395 - acc: 0.8619 - val_loss: 0.6108 - val_acc: 0.8204\n",
      "Epoch 212/300\n",
      "14355/14355 [==============================] - 1s 44us/step - loss: 0.4413 - acc: 0.8614 - val_loss: 0.6107 - val_acc: 0.8204\n",
      "Epoch 213/300\n",
      "14355/14355 [==============================] - 1s 44us/step - loss: 0.4372 - acc: 0.8619 - val_loss: 0.6107 - val_acc: 0.8194\n",
      "Epoch 214/300\n",
      "14355/14355 [==============================] - 1s 45us/step - loss: 0.4385 - acc: 0.8598 - val_loss: 0.6108 - val_acc: 0.8210\n",
      "Epoch 215/300\n",
      "14355/14355 [==============================] - 1s 44us/step - loss: 0.4322 - acc: 0.8607 - val_loss: 0.6105 - val_acc: 0.8204\n",
      "Epoch 216/300\n",
      "14355/14355 [==============================] - 1s 44us/step - loss: 0.4388 - acc: 0.8583 - val_loss: 0.6103 - val_acc: 0.8204\n",
      "Epoch 217/300\n",
      "14355/14355 [==============================] - 1s 43us/step - loss: 0.4351 - acc: 0.8600 - val_loss: 0.6106 - val_acc: 0.8207\n",
      "Epoch 218/300\n",
      "14355/14355 [==============================] - 1s 44us/step - loss: 0.4312 - acc: 0.8615 - val_loss: 0.6106 - val_acc: 0.8204\n",
      "Epoch 219/300\n",
      "14355/14355 [==============================] - 1s 44us/step - loss: 0.4338 - acc: 0.8598 - val_loss: 0.6107 - val_acc: 0.8207\n",
      "Epoch 220/300\n",
      "14355/14355 [==============================] - 1s 43us/step - loss: 0.4276 - acc: 0.8637 - val_loss: 0.6111 - val_acc: 0.8207\n",
      "Epoch 221/300\n",
      "14355/14355 [==============================] - 1s 43us/step - loss: 0.4270 - acc: 0.8651 - val_loss: 0.6111 - val_acc: 0.8204\n",
      "Epoch 222/300\n",
      "14355/14355 [==============================] - 1s 43us/step - loss: 0.4320 - acc: 0.8628 - val_loss: 0.6109 - val_acc: 0.8220\n",
      "Epoch 223/300\n",
      "14355/14355 [==============================] - 1s 44us/step - loss: 0.4223 - acc: 0.8667 - val_loss: 0.6108 - val_acc: 0.8210\n",
      "Epoch 224/300\n",
      "14355/14355 [==============================] - 1s 43us/step - loss: 0.4265 - acc: 0.8642 - val_loss: 0.6112 - val_acc: 0.8207\n",
      "Epoch 225/300\n",
      "14355/14355 [==============================] - 1s 42us/step - loss: 0.4232 - acc: 0.8652 - val_loss: 0.6111 - val_acc: 0.8210\n",
      "Epoch 226/300\n",
      "14355/14355 [==============================] - 1s 44us/step - loss: 0.4249 - acc: 0.8646 - val_loss: 0.6114 - val_acc: 0.8200\n",
      "Epoch 227/300\n",
      "14355/14355 [==============================] - 1s 43us/step - loss: 0.4264 - acc: 0.8646 - val_loss: 0.6111 - val_acc: 0.8210\n",
      "Epoch 228/300\n",
      "14355/14355 [==============================] - 1s 43us/step - loss: 0.4271 - acc: 0.8651 - val_loss: 0.6111 - val_acc: 0.8204\n",
      "Epoch 229/300\n",
      "14355/14355 [==============================] - 1s 44us/step - loss: 0.4264 - acc: 0.8632 - val_loss: 0.6110 - val_acc: 0.8187\n",
      "Epoch 230/300\n",
      "14355/14355 [==============================] - 1s 44us/step - loss: 0.4239 - acc: 0.8685 - val_loss: 0.6108 - val_acc: 0.8178\n",
      "Epoch 231/300\n",
      "14355/14355 [==============================] - 1s 43us/step - loss: 0.4216 - acc: 0.8674 - val_loss: 0.6109 - val_acc: 0.8187\n",
      "Epoch 232/300\n",
      "14355/14355 [==============================] - 1s 43us/step - loss: 0.4184 - acc: 0.8698 - val_loss: 0.6115 - val_acc: 0.8181\n",
      "Epoch 233/300\n",
      "14355/14355 [==============================] - 1s 42us/step - loss: 0.4180 - acc: 0.8692 - val_loss: 0.6116 - val_acc: 0.8197\n",
      "Epoch 234/300\n",
      "14355/14355 [==============================] - 1s 43us/step - loss: 0.4169 - acc: 0.8656 - val_loss: 0.6111 - val_acc: 0.8197\n",
      "Epoch 235/300\n",
      "14355/14355 [==============================] - 1s 44us/step - loss: 0.4155 - acc: 0.8705 - val_loss: 0.6113 - val_acc: 0.8191\n",
      "Epoch 236/300\n",
      "14355/14355 [==============================] - 1s 44us/step - loss: 0.4172 - acc: 0.8667 - val_loss: 0.6112 - val_acc: 0.8210\n",
      "Epoch 237/300\n",
      "14355/14355 [==============================] - 1s 44us/step - loss: 0.4198 - acc: 0.8687 - val_loss: 0.6113 - val_acc: 0.8204\n",
      "Epoch 238/300\n",
      "14355/14355 [==============================] - 1s 42us/step - loss: 0.4089 - acc: 0.8655 - val_loss: 0.6110 - val_acc: 0.8191\n",
      "Epoch 239/300\n",
      "14355/14355 [==============================] - 1s 42us/step - loss: 0.4071 - acc: 0.8711 - val_loss: 0.6113 - val_acc: 0.8200\n",
      "Epoch 240/300\n",
      "14355/14355 [==============================] - 1s 42us/step - loss: 0.4204 - acc: 0.8642 - val_loss: 0.6118 - val_acc: 0.8207\n",
      "Epoch 241/300\n",
      "14355/14355 [==============================] - 1s 44us/step - loss: 0.4101 - acc: 0.8669 - val_loss: 0.6114 - val_acc: 0.8197\n",
      "Epoch 242/300\n",
      "14355/14355 [==============================] - 1s 44us/step - loss: 0.4118 - acc: 0.8675 - val_loss: 0.6117 - val_acc: 0.8200\n",
      "Epoch 243/300\n",
      "14355/14355 [==============================] - 1s 44us/step - loss: 0.4083 - acc: 0.8705 - val_loss: 0.6116 - val_acc: 0.8207\n",
      "Epoch 244/300\n",
      "14355/14355 [==============================] - 1s 43us/step - loss: 0.4074 - acc: 0.8681 - val_loss: 0.6118 - val_acc: 0.8210\n",
      "Epoch 245/300\n",
      "14355/14355 [==============================] - 1s 44us/step - loss: 0.4081 - acc: 0.8695 - val_loss: 0.6114 - val_acc: 0.8204\n",
      "Epoch 246/300\n",
      "14355/14355 [==============================] - 1s 44us/step - loss: 0.4094 - acc: 0.8714 - val_loss: 0.6115 - val_acc: 0.8204\n",
      "Epoch 247/300\n",
      "14355/14355 [==============================] - 1s 45us/step - loss: 0.4110 - acc: 0.8698 - val_loss: 0.6119 - val_acc: 0.8187\n",
      "Epoch 248/300\n",
      "14355/14355 [==============================] - 1s 45us/step - loss: 0.4071 - acc: 0.8687 - val_loss: 0.6116 - val_acc: 0.8178\n",
      "Epoch 249/300\n",
      "14355/14355 [==============================] - 1s 44us/step - loss: 0.4051 - acc: 0.8706 - val_loss: 0.6120 - val_acc: 0.8210\n",
      "Epoch 250/300\n",
      "14355/14355 [==============================] - 1s 44us/step - loss: 0.4033 - acc: 0.8741 - val_loss: 0.6119 - val_acc: 0.8187\n",
      "Epoch 251/300\n",
      "14355/14355 [==============================] - 1s 44us/step - loss: 0.4028 - acc: 0.8722 - val_loss: 0.6122 - val_acc: 0.8191\n",
      "Epoch 252/300\n",
      "14355/14355 [==============================] - 1s 43us/step - loss: 0.3940 - acc: 0.8747 - val_loss: 0.6124 - val_acc: 0.8197\n",
      "Epoch 253/300\n",
      "14355/14355 [==============================] - 1s 42us/step - loss: 0.3992 - acc: 0.8731 - val_loss: 0.6125 - val_acc: 0.8194\n",
      "Epoch 254/300\n",
      "14355/14355 [==============================] - 1s 43us/step - loss: 0.4009 - acc: 0.8687 - val_loss: 0.6125 - val_acc: 0.8207\n",
      "Epoch 255/300\n",
      "14355/14355 [==============================] - 1s 44us/step - loss: 0.3927 - acc: 0.8762 - val_loss: 0.6122 - val_acc: 0.8191\n",
      "Epoch 256/300\n",
      "14355/14355 [==============================] - 1s 42us/step - loss: 0.3959 - acc: 0.8772 - val_loss: 0.6124 - val_acc: 0.8187\n",
      "Epoch 257/300\n",
      "14355/14355 [==============================] - 1s 42us/step - loss: 0.3980 - acc: 0.8727 - val_loss: 0.6125 - val_acc: 0.8210\n",
      "Epoch 258/300\n",
      "14355/14355 [==============================] - 1s 42us/step - loss: 0.3941 - acc: 0.8752 - val_loss: 0.6125 - val_acc: 0.8197\n",
      "Epoch 259/300\n",
      "14355/14355 [==============================] - 1s 44us/step - loss: 0.3901 - acc: 0.8755 - val_loss: 0.6127 - val_acc: 0.8204\n",
      "Epoch 260/300\n",
      "14355/14355 [==============================] - 1s 43us/step - loss: 0.3901 - acc: 0.8747 - val_loss: 0.6128 - val_acc: 0.8204\n",
      "Epoch 261/300\n",
      "14355/14355 [==============================] - 1s 43us/step - loss: 0.3934 - acc: 0.8741 - val_loss: 0.6129 - val_acc: 0.8194\n",
      "Epoch 262/300\n",
      "14355/14355 [==============================] - 1s 43us/step - loss: 0.3936 - acc: 0.8746 - val_loss: 0.6129 - val_acc: 0.8197\n",
      "Epoch 263/300\n",
      "14355/14355 [==============================] - 1s 44us/step - loss: 0.3892 - acc: 0.8745 - val_loss: 0.6132 - val_acc: 0.8174\n",
      "Epoch 264/300\n",
      "14355/14355 [==============================] - 1s 44us/step - loss: 0.3877 - acc: 0.8769 - val_loss: 0.6133 - val_acc: 0.8181\n",
      "Epoch 265/300\n",
      "14355/14355 [==============================] - 1s 44us/step - loss: 0.3894 - acc: 0.8745 - val_loss: 0.6130 - val_acc: 0.8200\n",
      "Epoch 266/300\n",
      "14355/14355 [==============================] - 1s 43us/step - loss: 0.3914 - acc: 0.8753 - val_loss: 0.6131 - val_acc: 0.8174\n",
      "Epoch 267/300\n",
      "14355/14355 [==============================] - 1s 43us/step - loss: 0.3893 - acc: 0.8774 - val_loss: 0.6131 - val_acc: 0.8178\n",
      "Epoch 268/300\n",
      "14355/14355 [==============================] - 1s 43us/step - loss: 0.3891 - acc: 0.8743 - val_loss: 0.6132 - val_acc: 0.8191\n",
      "Epoch 269/300\n",
      "14355/14355 [==============================] - 1s 44us/step - loss: 0.3882 - acc: 0.8773 - val_loss: 0.6136 - val_acc: 0.8184\n",
      "Epoch 270/300\n",
      "14355/14355 [==============================] - 1s 44us/step - loss: 0.3905 - acc: 0.8757 - val_loss: 0.6140 - val_acc: 0.8194\n",
      "Epoch 271/300\n",
      "14355/14355 [==============================] - 1s 43us/step - loss: 0.3844 - acc: 0.8769 - val_loss: 0.6136 - val_acc: 0.8187\n",
      "Epoch 272/300\n",
      "14355/14355 [==============================] - 1s 44us/step - loss: 0.3860 - acc: 0.8762 - val_loss: 0.6136 - val_acc: 0.8184\n",
      "Epoch 273/300\n",
      "14355/14355 [==============================] - 1s 43us/step - loss: 0.3848 - acc: 0.8776 - val_loss: 0.6136 - val_acc: 0.8191\n",
      "Epoch 274/300\n",
      "14355/14355 [==============================] - 1s 43us/step - loss: 0.3814 - acc: 0.8792 - val_loss: 0.6140 - val_acc: 0.8181\n",
      "Epoch 275/300\n",
      "14355/14355 [==============================] - 1s 44us/step - loss: 0.3827 - acc: 0.8775 - val_loss: 0.6136 - val_acc: 0.8187\n",
      "Epoch 276/300\n",
      "14355/14355 [==============================] - 1s 43us/step - loss: 0.3807 - acc: 0.8799 - val_loss: 0.6137 - val_acc: 0.8194\n",
      "Epoch 277/300\n",
      "14355/14355 [==============================] - 1s 44us/step - loss: 0.3808 - acc: 0.8802 - val_loss: 0.6142 - val_acc: 0.8178\n",
      "Epoch 278/300\n",
      "14355/14355 [==============================] - 1s 43us/step - loss: 0.3763 - acc: 0.8796 - val_loss: 0.6140 - val_acc: 0.8178\n",
      "Epoch 279/300\n",
      "14355/14355 [==============================] - 1s 43us/step - loss: 0.3773 - acc: 0.8803 - val_loss: 0.6145 - val_acc: 0.8178\n",
      "Epoch 280/300\n",
      "14355/14355 [==============================] - 1s 43us/step - loss: 0.3785 - acc: 0.8796 - val_loss: 0.6143 - val_acc: 0.8194\n",
      "Epoch 281/300\n",
      "14355/14355 [==============================] - 1s 43us/step - loss: 0.3756 - acc: 0.8782 - val_loss: 0.6141 - val_acc: 0.8191\n",
      "Epoch 282/300\n",
      "14355/14355 [==============================] - 1s 44us/step - loss: 0.3773 - acc: 0.8788 - val_loss: 0.6145 - val_acc: 0.8191\n",
      "Epoch 283/300\n",
      "14355/14355 [==============================] - 1s 43us/step - loss: 0.3806 - acc: 0.8812 - val_loss: 0.6146 - val_acc: 0.8184\n",
      "Epoch 284/300\n",
      "14355/14355 [==============================] - 1s 43us/step - loss: 0.3767 - acc: 0.8766 - val_loss: 0.6147 - val_acc: 0.8191\n",
      "Epoch 285/300\n",
      "14355/14355 [==============================] - 1s 44us/step - loss: 0.3699 - acc: 0.8823 - val_loss: 0.6147 - val_acc: 0.8191\n",
      "Epoch 286/300\n",
      "14355/14355 [==============================] - 1s 44us/step - loss: 0.3753 - acc: 0.8807 - val_loss: 0.6147 - val_acc: 0.8184\n",
      "Epoch 287/300\n",
      "14355/14355 [==============================] - 1s 44us/step - loss: 0.3752 - acc: 0.8776 - val_loss: 0.6146 - val_acc: 0.8178\n",
      "Epoch 288/300\n",
      "14355/14355 [==============================] - 1s 44us/step - loss: 0.3730 - acc: 0.8798 - val_loss: 0.6146 - val_acc: 0.8184\n",
      "Epoch 289/300\n",
      "14355/14355 [==============================] - 1s 43us/step - loss: 0.3742 - acc: 0.8816 - val_loss: 0.6144 - val_acc: 0.8174\n",
      "Epoch 290/300\n",
      "14355/14355 [==============================] - 1s 43us/step - loss: 0.3703 - acc: 0.8794 - val_loss: 0.6144 - val_acc: 0.8187\n",
      "Epoch 291/300\n",
      "14355/14355 [==============================] - 1s 45us/step - loss: 0.3682 - acc: 0.8834 - val_loss: 0.6146 - val_acc: 0.8181\n",
      "Epoch 292/300\n",
      "14355/14355 [==============================] - 1s 45us/step - loss: 0.3699 - acc: 0.8825 - val_loss: 0.6149 - val_acc: 0.8187\n",
      "Epoch 293/300\n",
      "14355/14355 [==============================] - 1s 45us/step - loss: 0.3686 - acc: 0.8814 - val_loss: 0.6149 - val_acc: 0.8181\n",
      "Epoch 294/300\n",
      "14355/14355 [==============================] - 1s 44us/step - loss: 0.3715 - acc: 0.8814 - val_loss: 0.6151 - val_acc: 0.8168\n",
      "Epoch 295/300\n",
      "14355/14355 [==============================] - 1s 44us/step - loss: 0.3652 - acc: 0.8816 - val_loss: 0.6151 - val_acc: 0.8161\n",
      "Epoch 296/300\n",
      "14355/14355 [==============================] - 1s 43us/step - loss: 0.3686 - acc: 0.8830 - val_loss: 0.6149 - val_acc: 0.8161\n",
      "Epoch 297/300\n",
      "14355/14355 [==============================] - 1s 43us/step - loss: 0.3624 - acc: 0.8842 - val_loss: 0.6149 - val_acc: 0.8161\n",
      "Epoch 298/300\n",
      "14355/14355 [==============================] - 1s 43us/step - loss: 0.3640 - acc: 0.8859 - val_loss: 0.6156 - val_acc: 0.8168\n",
      "Epoch 299/300\n",
      "14355/14355 [==============================] - 1s 43us/step - loss: 0.3662 - acc: 0.8823 - val_loss: 0.6157 - val_acc: 0.8155\n",
      "Epoch 300/300\n",
      "14355/14355 [==============================] - 1s 43us/step - loss: 0.3590 - acc: 0.8835 - val_loss: 0.6158 - val_acc: 0.8161\n"
     ]
    }
   ],
   "source": [
    "epochs = 300  \n",
    "batch_size = 128\n",
    "\n",
    "opt = Adam(lr=0.00001)\n",
    "model.compile(loss = \"categorical_crossentropy\", optimizer = opt, metrics=['accuracy'])\n",
    "history = model.fit(train_both, train_labels,  \n",
    "          epochs=epochs,  \n",
    "          batch_size=batch_size,  \n",
    "          validation_data=(valid_both, validation_labels))  "
   ]
  },
  {
   "cell_type": "code",
   "execution_count": 194,
   "metadata": {},
   "outputs": [
    {
     "name": "stdout",
     "output_type": "stream",
     "text": [
      "3141/3141 [==============================] - 0s 27us/step\n",
      "[INFO] accuracy: 80.26%\n",
      "[INFO] Loss: 0.671162964004652\n"
     ]
    }
   ],
   "source": [
    "model.save_weights(top_model_weights_path)  \n",
    "   \n",
    "(eval_loss, eval_accuracy) = model.evaluate(test_both, test_labels, batch_size=batch_size, verbose=1)\n",
    "\n",
    "print(\"[INFO] accuracy: {:.2f}%\".format(eval_accuracy * 100))  \n",
    "print(\"[INFO] Loss: {}\".format(eval_loss))  "
   ]
  },
  {
   "cell_type": "code",
   "execution_count": 197,
   "metadata": {},
   "outputs": [
    {
     "data": {
      "text/plain": [
       "<matplotlib.legend.Legend at 0x7f5985bf2f28>"
      ]
     },
     "execution_count": 197,
     "metadata": {},
     "output_type": "execute_result"
    },
    {
     "data": {
      "image/png": "[encoded data removed]",
      "text/plain": [
       "<Figure size 432x288 with 1 Axes>"
      ]
     },
     "metadata": {
      "needs_background": "light"
     },
     "output_type": "display_data"
    }
   ],
   "source": [
    "plt.figure(1)  \n",
    "   \n",
    "# summarize history for accuracy  \n",
    "   \n",
    "plt.subplot(211)  \n",
    "plt.plot(history.history['acc'])  \n",
    "plt.plot(history.history['val_acc'])  \n",
    "plt.title('model accuracy')  \n",
    "plt.ylabel('accuracy')  \n",
    "plt.xlabel('epoch')  \n",
    "plt.legend(['train', 'val'], loc='upper left')  \n",
    "   \n"
   ]
  },
  {
   "cell_type": "code",
   "execution_count": 198,
   "metadata": {},
   "outputs": [
    {
     "data": {
      "image/png": "[encoded data removed]",
      "text/plain": [
       "<Figure size 432x288 with 1 Axes>"
      ]
     },
     "metadata": {
      "needs_background": "light"
     },
     "output_type": "display_data"
    }
   ],
   "source": [
    "# summarize history for loss  \n",
    "\n",
    "plt.subplot(212)  \n",
    "plt.plot(history.history['loss'])  \n",
    "plt.plot(history.history['val_loss'])  \n",
    "plt.title('model loss')  \n",
    "plt.ylabel('loss')  \n",
    "plt.xlabel('epoch')  \n",
    "plt.legend(['train', 'val'], loc='upper left')  \n",
    "plt.show()  "
   ]
  },
  {
   "cell_type": "code",
   "execution_count": null,
   "metadata": {},
   "outputs": [],
   "source": []
  },
  {
   "cell_type": "code",
   "execution_count": 3,
   "metadata": {},
   "outputs": [],
   "source": [
    "import numpy as np  \n",
    "from keras.preprocessing.image import ImageDataGenerator, img_to_array, load_img  \n",
    "from keras.models import Sequential  \n",
    "from keras.layers import Dropout, Flatten, Dense, BatchNormalization\n",
    "from keras.layers import Conv2D, MaxPooling2D, GlobalAveragePooling2D\n",
    "from keras import applications  \n",
    "from keras.utils.np_utils import to_categorical  \n",
    "import matplotlib.pyplot as plt  \n",
    "import math  \n",
    "import cv2  "
   ]
  },
  {
   "cell_type": "code",
   "execution_count": 95,
   "metadata": {},
   "outputs": [],
   "source": [
    "model = applications.InceptionV3(include_top=False, weights='imagenet')  "
   ]
  },
  {
   "cell_type": "code",
   "execution_count": 96,
   "metadata": {},
   "outputs": [
    {
     "name": "stdout",
     "output_type": "stream",
     "text": [
      "Found 14355 images belonging to 120 classes.\n",
      "898/898 [==============================] - 116s 129ms/step\n"
     ]
    }
   ],
   "source": [
    "datagen = ImageDataGenerator(rescale=1. / 255)  \n",
    "generator = datagen.flow_from_directory(  \n",
    "     train_data_dir,  \n",
    "     target_size=(img_width, img_height),  \n",
    "     batch_size=batch_size,  \n",
    "     class_mode=None,  \n",
    "     shuffle=False)  \n",
    "   \n",
    "nb_train_samples = len(generator.filenames)  \n",
    "num_classes = len(generator.class_indices)  \n",
    "   \n",
    "predict_size_train = int(math.ceil(nb_train_samples / batch_size))  \n",
    "   \n",
    "bottleneck_features_train = model.predict_generator(generator, predict_size_train, use_multiprocessing=True, verbose =1)  \n",
    "   \n",
    "np.save('bottleneck_features_train_n.npy', bottleneck_features_train) "
   ]
  },
  {
   "cell_type": "code",
   "execution_count": 97,
   "metadata": {},
   "outputs": [
    {
     "name": "stdout",
     "output_type": "stream",
     "text": [
      "Found 3141 images belonging to 120 classes.\n",
      "197/197 [==============================] - 23s 118ms/step\n"
     ]
    }
   ],
   "source": [
    "generator = datagen.flow_from_directory(  \n",
    "     test_data_dir,  \n",
    "     target_size=(img_width, img_height),  \n",
    "     batch_size=batch_size,  \n",
    "     class_mode=None,  \n",
    "     shuffle=False)  \n",
    "   \n",
    "nb_test_samples = len(generator.filenames)  \n",
    "   \n",
    "predict_size_test = int(math.ceil(nb_test_samples / batch_size))  \n",
    "   \n",
    "bottleneck_features_test = model.predict_generator(generator, predict_size_test, use_multiprocessing=True, verbose =1)  \n",
    "   \n",
    "np.save('bottleneck_features_test_n.npy', bottleneck_features_test) "
   ]
  },
  {
   "cell_type": "code",
   "execution_count": 98,
   "metadata": {},
   "outputs": [
    {
     "name": "stdout",
     "output_type": "stream",
     "text": [
      "Found 3141 images belonging to 120 classes.\n"
     ]
    }
   ],
   "source": [
    "datagen_top = ImageDataGenerator(rescale=1./255)  \n",
    "generator_top = datagen_top.flow_from_directory(  \n",
    "         test_data_dir,  \n",
    "         target_size=(img_width, img_height),  \n",
    "         batch_size=batch_size,  \n",
    "         class_mode='categorical',  \n",
    "         shuffle=False)  \n",
    "   \n",
    "nb_test_samples = len(generator_top.filenames)  \n",
    "num_classes = len(generator_top.class_indices)  \n",
    "   \n",
    " # load the bottleneck features saved earlier  \n",
    "test_data = np.load('bottleneck_features_test_n.npy')  \n",
    "   \n",
    " # get the class lebels for the training data, in the original order  \n",
    "test_labels = generator_top.classes  \n",
    "   \n",
    " # convert the training labels to categorical vectors  \n",
    "test_labels = to_categorical(test_labels, num_classes=num_classes)  "
   ]
  },
  {
   "cell_type": "code",
   "execution_count": 99,
   "metadata": {},
   "outputs": [
    {
     "name": "stdout",
     "output_type": "stream",
     "text": [
      "Found 3084 images belonging to 120 classes.\n",
      "193/193 [==============================] - 23s 117ms/step\n"
     ]
    }
   ],
   "source": [
    "generator = datagen.flow_from_directory(  \n",
    "     validation_data_dir,  \n",
    "     target_size=(img_width, img_height),  \n",
    "     batch_size=batch_size,  \n",
    "     class_mode=None,  \n",
    "     shuffle=False)  \n",
    "   \n",
    "nb_validation_samples = len(generator.filenames)  \n",
    "   \n",
    "predict_size_validation = int(math.ceil(nb_validation_samples / batch_size))  \n",
    "   \n",
    "bottleneck_features_validation = model.predict_generator(generator, predict_size_validation, use_multiprocessing=True, verbose =1)  \n",
    "   \n",
    "np.save('bottleneck_features_validation_n.npy', bottleneck_features_validation) "
   ]
  },
  {
   "cell_type": "code",
   "execution_count": 100,
   "metadata": {},
   "outputs": [
    {
     "name": "stdout",
     "output_type": "stream",
     "text": [
      "Found 14355 images belonging to 120 classes.\n"
     ]
    }
   ],
   "source": [
    "datagen_top = ImageDataGenerator(rescale=1./255)  \n",
    "generator_top = datagen_top.flow_from_directory(  \n",
    "         train_data_dir,  \n",
    "         target_size=(img_width, img_height),  \n",
    "         batch_size=batch_size,  \n",
    "         class_mode='categorical',  \n",
    "         shuffle=False)  \n",
    "   \n",
    "nb_train_samples = len(generator_top.filenames)  \n",
    "num_classes = len(generator_top.class_indices)  \n",
    "   \n",
    " # load the bottleneck features saved earlier  \n",
    "train_data = np.load('bottleneck_features_train_n.npy')  \n",
    "   \n",
    " # get the class lebels for the training data, in the original order  \n",
    "train_labels = generator_top.classes  \n",
    "   \n",
    " # convert the training labels to categorical vectors  \n",
    "train_labels = to_categorical(train_labels, num_classes=num_classes)  "
   ]
  },
  {
   "cell_type": "code",
   "execution_count": 101,
   "metadata": {},
   "outputs": [
    {
     "name": "stdout",
     "output_type": "stream",
     "text": [
      "Found 3084 images belonging to 120 classes.\n"
     ]
    }
   ],
   "source": [
    "generator_top = datagen_top.flow_from_directory(  \n",
    "         validation_data_dir,  \n",
    "         target_size=(img_width, img_height),  \n",
    "         batch_size=batch_size,  \n",
    "         class_mode=None,  \n",
    "         shuffle=False)  \n",
    "   \n",
    "nb_validation_samples = len(generator_top.filenames)  \n",
    "   \n",
    "validation_data = np.load('bottleneck_features_validation_n.npy')  \n",
    "   \n",
    "validation_labels = generator_top.classes  \n",
    "validation_labels = to_categorical(validation_labels, num_classes=num_classes)  "
   ]
  },
  {
   "cell_type": "code",
   "execution_count": 151,
   "metadata": {},
   "outputs": [
    {
     "name": "stdout",
     "output_type": "stream",
     "text": [
      "_________________________________________________________________\n",
      "Layer (type)                 Output Shape              Param #   \n",
      "=================================================================\n",
      "global_average_pooling2d_23  (None, 2048)              0         \n",
      "_________________________________________________________________\n",
      "batch_normalization_20 (Batc (None, 2048)              8192      \n",
      "_________________________________________________________________\n",
      "dropout_24 (Dropout)         (None, 2048)              0         \n",
      "_________________________________________________________________\n",
      "dense_34 (Dense)             (None, 120)               245880    \n",
      "=================================================================\n",
      "Total params: 254,072\n",
      "Trainable params: 249,976\n",
      "Non-trainable params: 4,096\n",
      "_________________________________________________________________\n"
     ]
    }
   ],
   "source": [
    "model = Sequential()  \n",
    "model.add(GlobalAveragePooling2D(input_shape=train_data.shape[1:]))  \n",
    "model.add(BatchNormalization())\n",
    "#model.add(Dense(256, activation='relu'))  \n",
    "model.add(Dropout(0.5))  \n",
    "model.add(Dense(num_classes, activation='softmax'))  \n",
    "model.summary()"
   ]
  },
  {
   "cell_type": "code",
   "execution_count": null,
   "metadata": {},
   "outputs": [],
   "source": [
    "epochs = 20  \n",
    "#batch_size = 30\n",
    "from keras.optimizers import SGD, Adam\n",
    "opt = Adam(lr=0.0001)\n",
    "model.compile(loss = \"categorical_crossentropy\", optimizer = opt, metrics=['accuracy'])\n",
    "history = model.fit(train_data, train_labels,  \n",
    "          epochs=epochs,  \n",
    "          batch_size=batch_size,  \n",
    "          validation_data=(validation_data, validation_labels))  "
   ]
  },
  {
   "cell_type": "code",
   "execution_count": 104,
   "metadata": {},
   "outputs": [
    {
     "name": "stdout",
     "output_type": "stream",
     "text": [
      "3141/3141 [==============================] - 1s 239us/step\n",
      "[INFO] accuracy: 78.19%\n",
      "[INFO] Loss: 0.8511112540438357\n"
     ]
    }
   ],
   "source": [
    "model.save_weights(top_model_weights_path)  \n",
    "   \n",
    "(eval_loss, eval_accuracy) = model.evaluate(test_data, test_labels, batch_size=batch_size, verbose=1)\n",
    "\n",
    "print(\"[INFO] accuracy: {:.2f}%\".format(eval_accuracy * 100))  \n",
    "print(\"[INFO] Loss: {}\".format(eval_loss))  "
   ]
  },
  {
   "cell_type": "code",
   "execution_count": 92,
   "metadata": {},
   "outputs": [
    {
     "data": {
      "text/plain": [
       "<matplotlib.legend.Legend at 0x7f99e498e898>"
      ]
     },
     "execution_count": 92,
     "metadata": {},
     "output_type": "execute_result"
    },
    {
     "data": {
      "image/png": "[encoded data removed]",
      "text/plain": [
       "<Figure size 432x288 with 1 Axes>"
      ]
     },
     "metadata": {
      "needs_background": "light"
     },
     "output_type": "display_data"
    }
   ],
   "source": [
    "plt.figure(1)  \n",
    "   \n",
    "# summarize history for accuracy  \n",
    "   \n",
    "plt.subplot(211)  \n",
    "plt.plot(history.history['acc'])  \n",
    "plt.plot(history.history['val_acc'])  \n",
    "plt.title('model accuracy')  \n",
    "plt.ylabel('accuracy')  \n",
    "plt.xlabel('epoch')  \n",
    "plt.legend(['train', 'val'], loc='upper left')  \n",
    "   \n"
   ]
  },
  {
   "cell_type": "code",
   "execution_count": 93,
   "metadata": {},
   "outputs": [
    {
     "data": {
      "image/png": "[encoded data removed]",
      "text/plain": [
       "<Figure size 432x288 with 1 Axes>"
      ]
     },
     "metadata": {
      "needs_background": "light"
     },
     "output_type": "display_data"
    }
   ],
   "source": [
    "# summarize history for loss  \n",
    "\n",
    "plt.subplot(212)  \n",
    "plt.plot(history.history['loss'])  \n",
    "plt.plot(history.history['val_loss'])  \n",
    "plt.title('model loss')  \n",
    "plt.ylabel('loss')  \n",
    "plt.xlabel('epoch')  \n",
    "plt.legend(['train', 'val'], loc='upper left')  \n",
    "plt.show()  "
   ]
  },
  {
   "cell_type": "code",
   "execution_count": null,
   "metadata": {},
   "outputs": [],
   "source": []
  },
  {
   "cell_type": "code",
   "execution_count": null,
   "metadata": {},
   "outputs": [],
   "source": []
  },
  {
   "cell_type": "code",
   "execution_count": null,
   "metadata": {},
   "outputs": [],
   "source": []
  },
  {
   "cell_type": "code",
   "execution_count": 6,
   "metadata": {},
   "outputs": [],
   "source": [
    "# dimensions of our images.  \n",
    "img_width, img_height = 224, 224  \n",
    "   \n",
    "top_model_weights_path = 'bottleneck_fc_model_xception.h5'  \n",
    "train_data_dir = 'Images_split/train'  \n",
    "validation_data_dir = 'Images_split/val'\n",
    "test_data_dir = 'Images_split/test'\n",
    "   \n",
    " # number of epochs to train top model  \n",
    "#epochs = 50  \n",
    " # batch size used by flow_from_directory and predict_generator  \n",
    "batch_size = 20  "
   ]
  },
  {
   "cell_type": "code",
   "execution_count": 4,
   "metadata": {},
   "outputs": [
    {
     "name": "stdout",
     "output_type": "stream",
     "text": [
      "WARNING:tensorflow:From /usr/local/lib/python3.5/dist-packages/tensorflow/python/framework/op_def_library.py:263: colocate_with (from tensorflow.python.framework.ops) is deprecated and will be removed in a future version.\n",
      "Instructions for updating:\n",
      "Colocations handled automatically by placer.\n"
     ]
    }
   ],
   "source": [
    "model_x = applications.Xception(include_top=False, weights='imagenet')  "
   ]
  },
  {
   "cell_type": "code",
   "execution_count": 7,
   "metadata": {},
   "outputs": [
    {
     "name": "stdout",
     "output_type": "stream",
     "text": [
      "Found 14355 images belonging to 120 classes.\n",
      "718/718 [==============================] - 199s 277ms/step\n"
     ]
    }
   ],
   "source": [
    "datagen = ImageDataGenerator(rescale=1. / 255)  \n",
    "generator = datagen.flow_from_directory(  \n",
    "     train_data_dir,  \n",
    "     target_size=(img_width, img_height),  \n",
    "     batch_size=batch_size,  \n",
    "     class_mode=None,  \n",
    "     shuffle=False)  \n",
    "   \n",
    "nb_train_samples = len(generator.filenames)  \n",
    "num_classes = len(generator.class_indices)  \n",
    "   \n",
    "predict_size_train = int(math.ceil(nb_train_samples / batch_size))  \n",
    "   \n",
    "bottleneck_features_train = model_x.predict_generator(generator, predict_size_train, use_multiprocessing=True, verbose =1)  \n",
    "   \n",
    "np.save('bottleneck_features_train_x.npy', bottleneck_features_train) "
   ]
  },
  {
   "cell_type": "code",
   "execution_count": 9,
   "metadata": {},
   "outputs": [
    {
     "name": "stdout",
     "output_type": "stream",
     "text": [
      "Found 3141 images belonging to 120 classes.\n",
      "158/158 [==============================] - 71s 450ms/step\n"
     ]
    }
   ],
   "source": [
    "generator = datagen.flow_from_directory(  \n",
    "     test_data_dir,  \n",
    "     target_size=(img_width, img_height),  \n",
    "     batch_size=batch_size,  \n",
    "     class_mode=None,  \n",
    "     shuffle=False)  \n",
    "   \n",
    "nb_test_samples = len(generator.filenames)  \n",
    "   \n",
    "predict_size_test = int(math.ceil(nb_test_samples / batch_size))  \n",
    "   \n",
    "bottleneck_features_test = model_x.predict_generator(generator, predict_size_test, use_multiprocessing=True, verbose =1)  \n",
    "   \n",
    "np.save('bottleneck_features_test_x.npy', bottleneck_features_test) "
   ]
  },
  {
   "cell_type": "code",
   "execution_count": 10,
   "metadata": {},
   "outputs": [
    {
     "name": "stdout",
     "output_type": "stream",
     "text": [
      "Found 3084 images belonging to 120 classes.\n",
      "155/155 [==============================] - 59s 379ms/step\n"
     ]
    }
   ],
   "source": [
    "generator = datagen.flow_from_directory(  \n",
    "     validation_data_dir,  \n",
    "     target_size=(img_width, img_height),  \n",
    "     batch_size=batch_size,  \n",
    "     class_mode=None,  \n",
    "     shuffle=False)  \n",
    "   \n",
    "nb_validation_samples = len(generator.filenames)  \n",
    "   \n",
    "predict_size_validation = int(math.ceil(nb_validation_samples / batch_size))  \n",
    "   \n",
    "bottleneck_features_validation = model_x.predict_generator(generator, predict_size_validation, use_multiprocessing=True, verbose =1)  \n",
    "   \n",
    "np.save('bottleneck_features_validation_x.npy', bottleneck_features_validation) "
   ]
  },
  {
   "cell_type": "code",
   "execution_count": 46,
   "metadata": {},
   "outputs": [
    {
     "name": "stdout",
     "output_type": "stream",
     "text": [
      "Found 3141 images belonging to 120 classes.\n"
     ]
    }
   ],
   "source": [
    "datagen_top = ImageDataGenerator(rescale=1./255)  \n",
    "generator_top = datagen_top.flow_from_directory(  \n",
    "         test_data_dir,  \n",
    "         target_size=(img_width, img_height),  \n",
    "         batch_size=batch_size,  \n",
    "         class_mode='categorical',  \n",
    "         shuffle=False)  \n",
    "   \n",
    "nb_test_samples = len(generator_top.filenames)  \n",
    "num_classes = len(generator_top.class_indices)  \n",
    "   \n",
    " # load the bottleneck features saved earlier  \n",
    "test_data = np.load('bottleneck_features_test_x.npy')  \n",
    "   \n",
    " # get the class lebels for the training data, in the original order  \n",
    "test_labels = generator_top.classes  \n",
    "   \n",
    " # convert the training labels to categorical vectors  \n",
    "test_labels = to_categorical(test_labels, num_classes=num_classes)  "
   ]
  },
  {
   "cell_type": "code",
   "execution_count": 18,
   "metadata": {},
   "outputs": [
    {
     "name": "stdout",
     "output_type": "stream",
     "text": [
      "Found 14355 images belonging to 120 classes.\n"
     ]
    }
   ],
   "source": [
    "datagen_top = ImageDataGenerator(rescale=1./255)  \n",
    "generator_top = datagen_top.flow_from_directory(  \n",
    "         train_data_dir,  \n",
    "         target_size=(img_width, img_height),  \n",
    "         batch_size=batch_size,  \n",
    "         class_mode='categorical',  \n",
    "         shuffle=False)  \n",
    "   \n",
    "nb_train_samples = len(generator_top.filenames)  \n",
    "num_classes = len(generator_top.class_indices)  \n",
    "   \n",
    " # load the bottleneck features saved earlier  \n",
    "train_data = np.load('bottleneck_features_train_x.npy')  \n",
    "   \n",
    " # get the class lebels for the training data, in the original order  \n",
    "train_labels = generator_top.classes  \n",
    "   \n",
    " # convert the training labels to categorical vectors  \n",
    "train_labels = to_categorical(train_labels, num_classes=num_classes)  "
   ]
  },
  {
   "cell_type": "code",
   "execution_count": 19,
   "metadata": {},
   "outputs": [
    {
     "name": "stdout",
     "output_type": "stream",
     "text": [
      "Found 3084 images belonging to 120 classes.\n"
     ]
    }
   ],
   "source": [
    "generator_top = datagen_top.flow_from_directory(  \n",
    "         validation_data_dir,  \n",
    "         target_size=(img_width, img_height),  \n",
    "         batch_size=batch_size,  \n",
    "         class_mode=None,  \n",
    "         shuffle=False)  \n",
    "   \n",
    "nb_validation_samples = len(generator_top.filenames)  \n",
    "   \n",
    "validation_data = np.load('bottleneck_features_validation_x.npy')  \n",
    "   \n",
    "validation_labels = generator_top.classes  \n",
    "validation_labels = to_categorical(validation_labels, num_classes=num_classes)  "
   ]
  },
  {
   "cell_type": "code",
   "execution_count": 179,
   "metadata": {},
   "outputs": [],
   "source": [
    "classes = [np.argmax(validation_labels[i]) for i in range(3000)]"
   ]
  },
  {
   "cell_type": "code",
   "execution_count": 180,
   "metadata": {},
   "outputs": [],
   "source": [
    "def plot_scatter(values, clas):\n",
    "    # Create a color-map with a different color for each class.\n",
    "    import matplotlib.cm as cm\n",
    "    cmap = cm.rainbow(np.linspace(-0.5, 1.0, 120))\n",
    "\n",
    "    # Get the color for each sample.\n",
    "    colors = cmap[clas]\n",
    "\n",
    "    # Extract the x- and y-values.\n",
    "    x = values[:, 0]\n",
    "    y = values[:, 1]\n",
    "\n",
    "    # Plot it.\n",
    "    plt.scatter(x, y, color=colors)\n",
    "    plt.show()"
   ]
  },
  {
   "cell_type": "code",
   "execution_count": 181,
   "metadata": {},
   "outputs": [
    {
     "data": {
      "image/png": "[encoded data removed]",
      "text/plain": [
       "<Figure size 432x288 with 1 Axes>"
      ]
     },
     "metadata": {
      "needs_background": "light"
     },
     "output_type": "display_data"
    }
   ],
   "source": [
    "plot_scatter(transfer_values_reduced, classes)"
   ]
  },
  {
   "cell_type": "code",
   "execution_count": null,
   "metadata": {},
   "outputs": [],
   "source": []
  },
  {
   "cell_type": "code",
   "execution_count": 82,
   "metadata": {},
   "outputs": [
    {
     "name": "stdout",
     "output_type": "stream",
     "text": [
      "_________________________________________________________________\n",
      "Layer (type)                 Output Shape              Param #   \n",
      "=================================================================\n",
      "global_average_pooling2d_18  (None, 2048)              0         \n",
      "_________________________________________________________________\n",
      "dense_15 (Dense)             (None, 128)               262272    \n",
      "_________________________________________________________________\n",
      "batch_normalization_19 (Batc (None, 128)               512       \n",
      "_________________________________________________________________\n",
      "activation_3 (Activation)    (None, 128)               0         \n",
      "_________________________________________________________________\n",
      "dropout_14 (Dropout)         (None, 128)               0         \n",
      "_________________________________________________________________\n",
      "dense_16 (Dense)             (None, 120)               15480     \n",
      "=================================================================\n",
      "Total params: 278,264\n",
      "Trainable params: 278,008\n",
      "Non-trainable params: 256\n",
      "_________________________________________________________________\n"
     ]
    }
   ],
   "source": [
    "from keras.layers import Dropout, Flatten, Dense, BatchNormalization, Activation\n",
    "from keras import regularizers\n",
    "modelx = Sequential()  \n",
    "modelx.add(GlobalAveragePooling2D(input_shape=train_data.shape[1:]))  \n",
    "modelx.add(Dense(128))  \n",
    "modelx.add(BatchNormalization())\n",
    "modelx.add(Activation('relu'))\n",
    "modelx.add(Dropout(0.3))  \n",
    "modelx.add(Dense(num_classes, kernel_regularizer=regularizers.l2(0.001), activation='softmax'))  \n",
    "modelx.summary()"
   ]
  },
  {
   "cell_type": "code",
   "execution_count": null,
   "metadata": {},
   "outputs": [
    {
     "name": "stdout",
     "output_type": "stream",
     "text": [
      "Train on 14355 samples, validate on 3084 samples\n",
      "Epoch 1/100\n",
      "14355/14355 [==============================] - 9s 617us/step - loss: 5.0239 - acc: 0.0192 - val_loss: 4.6247 - val_acc: 0.0525\n",
      "Epoch 2/100\n",
      "14355/14355 [==============================] - 6s 421us/step - loss: 4.4837 - acc: 0.0703 - val_loss: 4.1180 - val_acc: 0.1981\n",
      "Epoch 3/100\n",
      "14355/14355 [==============================] - 6s 416us/step - loss: 4.0345 - acc: 0.1740 - val_loss: 3.7018 - val_acc: 0.3680\n",
      "Epoch 4/100\n",
      "14355/14355 [==============================] - 6s 425us/step - loss: 3.6639 - acc: 0.3012 - val_loss: 3.3689 - val_acc: 0.4958\n",
      "Epoch 5/100\n",
      "14355/14355 [==============================] - 6s 433us/step - loss: 3.3687 - acc: 0.4093 - val_loss: 3.0948 - val_acc: 0.5778\n",
      "Epoch 6/100\n",
      "14355/14355 [==============================] - 6s 421us/step - loss: 3.1229 - acc: 0.4881 - val_loss: 2.8787 - val_acc: 0.6265\n",
      "Epoch 7/100\n",
      "14355/14355 [==============================] - 6s 436us/step - loss: 1.5753 - acc: 0.7617 - val_loss: 1.4538 - val_acc: 0.7821\n",
      "Epoch 24/100\n",
      "14355/14355 [==============================] - 6s 433us/step - loss: 1.5378 - acc: 0.7626 - val_loss: 1.4211 - val_acc: 0.7847\n",
      "Epoch 25/100\n",
      "14355/14355 [==============================] - 6s 424us/step - loss: 1.5012 - acc: 0.7703 - val_loss: 1.3924 - val_acc: 0.7831\n",
      "Epoch 26/100\n",
      "14355/14355 [==============================] - 6s 422us/step - loss: 1.4728 - acc: 0.7722 - val_loss: 1.3676 - val_acc: 0.7853\n",
      "Epoch 27/100\n",
      "14355/14355 [==============================] - 6s 424us/step - loss: 1.4376 - acc: 0.7771 - val_loss: 1.3405 - val_acc: 0.7860\n",
      "Epoch 28/100\n",
      "14355/14355 [==============================] - 6s 421us/step - loss: 1.4147 - acc: 0.7744 - val_loss: 1.3151 - val_acc: 0.7879\n",
      "Epoch 29/100\n",
      "14355/14355 [==============================] - 6s 428us/step - loss: 1.3760 - acc: 0.7807 - val_loss: 1.2915 - val_acc: 0.7886\n",
      "Epoch 30/100\n",
      "14355/14355 [==============================] - 6s 437us/step - loss: 1.3571 - acc: 0.7816 - val_loss: 1.2698 - val_acc: 0.7883\n",
      "Epoch 31/100\n",
      "14355/14355 [==============================] - 6s 424us/step - loss: 1.3398 - acc: 0.7850 - val_loss: 1.2523 - val_acc: 0.7905\n",
      "Epoch 32/100\n",
      "14355/14355 [==============================] - 6s 414us/step - loss: 1.3138 - acc: 0.7859 - val_loss: 1.2369 - val_acc: 0.7892\n",
      "Epoch 33/100\n",
      "14355/14355 [==============================] - 6s 425us/step - loss: 1.2891 - acc: 0.7926 - val_loss: 1.2168 - val_acc: 0.7909\n",
      "Epoch 34/100\n",
      "14355/14355 [==============================] - 6s 428us/step - loss: 1.2702 - acc: 0.7925 - val_loss: 1.2027 - val_acc: 0.7925\n",
      "Epoch 35/100\n",
      "14355/14355 [==============================] - 6s 441us/step - loss: 1.2403 - acc: 0.7941 - val_loss: 1.1841 - val_acc: 0.7931\n",
      "Epoch 36/100\n",
      "14355/14355 [==============================] - 6s 426us/step - loss: 1.2264 - acc: 0.7916 - val_loss: 1.1721 - val_acc: 0.7912\n",
      "Epoch 37/100\n",
      "14355/14355 [==============================] - 6s 425us/step - loss: 1.2157 - acc: 0.7989 - val_loss: 1.1580 - val_acc: 0.7922\n",
      "Epoch 38/100\n",
      "14355/14355 [==============================] - 6s 420us/step - loss: 1.1976 - acc: 0.7979 - val_loss: 1.1460 - val_acc: 0.7922\n",
      "Epoch 39/100\n",
      "14355/14355 [==============================] - 6s 419us/step - loss: 1.1720 - acc: 0.8013 - val_loss: 1.1343 - val_acc: 0.7938\n",
      "Epoch 40/100\n",
      "14355/14355 [==============================] - 6s 432us/step - loss: 1.1623 - acc: 0.8000 - val_loss: 1.1274 - val_acc: 0.7941\n",
      "Epoch 41/100\n",
      "14355/14355 [==============================] - 6s 435us/step - loss: 1.1444 - acc: 0.8031 - val_loss: 1.1177 - val_acc: 0.7957\n",
      "Epoch 42/100\n",
      "14355/14355 [==============================] - 6s 424us/step - loss: 1.1296 - acc: 0.8069 - val_loss: 1.1063 - val_acc: 0.7957\n",
      "Epoch 43/100\n",
      "14355/14355 [==============================] - 6s 427us/step - loss: 1.1142 - acc: 0.8070 - val_loss: 1.0954 - val_acc: 0.7951\n",
      "Epoch 44/100\n",
      "14355/14355 [==============================] - 6s 432us/step - loss: 1.1037 - acc: 0.8118 - val_loss: 1.0889 - val_acc: 0.7951\n",
      "Epoch 45/100\n",
      "14355/14355 [==============================] - 6s 427us/step - loss: 1.0885 - acc: 0.8086 - val_loss: 1.0795 - val_acc: 0.7947\n",
      "Epoch 46/100\n",
      "14355/14355 [==============================] - 6s 425us/step - loss: 1.0841 - acc: 0.8157 - val_loss: 1.0718 - val_acc: 0.7957\n",
      "Epoch 47/100\n",
      "14355/14355 [==============================] - 6s 413us/step - loss: 1.0719 - acc: 0.8129 - val_loss: 1.0650 - val_acc: 0.7960\n",
      "Epoch 48/100\n",
      "14355/14355 [==============================] - 6s 426us/step - loss: 1.0554 - acc: 0.8150 - val_loss: 1.0592 - val_acc: 0.7964\n",
      "Epoch 49/100\n",
      "14355/14355 [==============================] - 6s 414us/step - loss: 1.0465 - acc: 0.8167 - val_loss: 1.0525 - val_acc: 0.7977\n",
      "Epoch 50/100\n",
      "14355/14355 [==============================] - 6s 430us/step - loss: 1.0332 - acc: 0.8167 - val_loss: 1.0455 - val_acc: 0.7970\n",
      "Epoch 51/100\n",
      "14355/14355 [==============================] - 7s 455us/step - loss: 1.0261 - acc: 0.8154 - val_loss: 1.0410 - val_acc: 0.7980\n",
      "Epoch 52/100\n",
      "14355/14355 [==============================] - 6s 435us/step - loss: 1.0226 - acc: 0.8164 - val_loss: 1.0339 - val_acc: 0.7967\n",
      "Epoch 53/100\n",
      "14355/14355 [==============================] - 6s 423us/step - loss: 1.0034 - acc: 0.8215 - val_loss: 1.0298 - val_acc: 0.7973\n",
      "Epoch 54/100\n",
      "14355/14355 [==============================] - 6s 422us/step - loss: 1.0011 - acc: 0.8175 - val_loss: 1.0240 - val_acc: 0.7970\n",
      "Epoch 55/100\n",
      "14355/14355 [==============================] - 6s 419us/step - loss: 0.9988 - acc: 0.8223 - val_loss: 1.0182 - val_acc: 0.7977\n",
      "Epoch 56/100\n",
      "14355/14355 [==============================] - 6s 426us/step - loss: 0.9809 - acc: 0.8240 - val_loss: 1.0150 - val_acc: 0.7980\n",
      "Epoch 57/100\n",
      "14355/14355 [==============================] - 6s 434us/step - loss: 0.9732 - acc: 0.8265 - val_loss: 1.0107 - val_acc: 0.7986\n",
      "Epoch 58/100\n",
      "14355/14355 [==============================] - 6s 424us/step - loss: 0.9665 - acc: 0.8258 - val_loss: 1.0061 - val_acc: 0.7980\n",
      "Epoch 59/100\n",
      "14355/14355 [==============================] - 6s 424us/step - loss: 0.9621 - acc: 0.8243 - val_loss: 1.0015 - val_acc: 0.7970\n",
      "Epoch 60/100\n",
      "14355/14355 [==============================] - 6s 420us/step - loss: 0.9476 - acc: 0.8302 - val_loss: 0.9962 - val_acc: 0.7993\n",
      "Epoch 61/100\n",
      "14355/14355 [==============================] - 6s 436us/step - loss: 0.9493 - acc: 0.8301 - val_loss: 0.9942 - val_acc: 0.7983\n",
      "Epoch 62/100\n",
      "14355/14355 [==============================] - 6s 425us/step - loss: 0.9371 - acc: 0.8265 - val_loss: 0.9910 - val_acc: 0.7983\n",
      "Epoch 63/100\n",
      "14355/14355 [==============================] - 6s 416us/step - loss: 0.9255 - acc: 0.8311 - val_loss: 0.9870 - val_acc: 0.7973\n",
      "Epoch 64/100\n",
      "14355/14355 [==============================] - 6s 428us/step - loss: 0.9180 - acc: 0.8348 - val_loss: 0.9841 - val_acc: 0.8003\n",
      "Epoch 65/100\n",
      "14355/14355 [==============================] - 6s 423us/step - loss: 0.9166 - acc: 0.8346 - val_loss: 0.9802 - val_acc: 0.7993\n",
      "Epoch 66/100\n",
      "14355/14355 [==============================] - 6s 452us/step - loss: 0.9109 - acc: 0.8315 - val_loss: 0.9788 - val_acc: 0.7996\n",
      "Epoch 67/100\n",
      "14355/14355 [==============================] - 6s 438us/step - loss: 0.8999 - acc: 0.8354 - val_loss: 0.9757 - val_acc: 0.7999\n",
      "Epoch 68/100\n",
      "14355/14355 [==============================] - 6s 427us/step - loss: 0.8951 - acc: 0.8379 - val_loss: 0.9742 - val_acc: 0.8009\n",
      "Epoch 69/100\n",
      "14355/14355 [==============================] - 6s 432us/step - loss: 0.8906 - acc: 0.8371 - val_loss: 0.9718 - val_acc: 0.7990\n",
      "Epoch 70/100\n",
      "14355/14355 [==============================] - 6s 439us/step - loss: 0.8830 - acc: 0.8403 - val_loss: 0.9709 - val_acc: 0.8003\n",
      "Epoch 71/100\n",
      "14355/14355 [==============================] - 6s 430us/step - loss: 0.8795 - acc: 0.8399 - val_loss: 0.9672 - val_acc: 0.8009\n",
      "Epoch 72/100\n",
      "14355/14355 [==============================] - 6s 425us/step - loss: 0.8720 - acc: 0.8399 - val_loss: 0.9643 - val_acc: 0.7999\n",
      "Epoch 73/100\n",
      "14355/14355 [==============================] - 6s 422us/step - loss: 0.8692 - acc: 0.8424 - val_loss: 0.9634 - val_acc: 0.7993\n",
      "Epoch 74/100\n",
      "14355/14355 [==============================] - 6s 424us/step - loss: 0.8634 - acc: 0.8414 - val_loss: 0.9609 - val_acc: 0.7993\n",
      "Epoch 75/100\n",
      "14355/14355 [==============================] - 6s 429us/step - loss: 0.8589 - acc: 0.8445 - val_loss: 0.9587 - val_acc: 0.7990\n",
      "Epoch 76/100\n",
      "14355/14355 [==============================] - 6s 432us/step - loss: 0.8568 - acc: 0.8416 - val_loss: 0.9570 - val_acc: 0.8006\n",
      "Epoch 77/100\n",
      "14355/14355 [==============================] - 6s 421us/step - loss: 0.8497 - acc: 0.8488 - val_loss: 0.9547 - val_acc: 0.7990\n",
      "Epoch 78/100\n",
      "14355/14355 [==============================] - 6s 424us/step - loss: 0.8479 - acc: 0.8445 - val_loss: 0.9535 - val_acc: 0.8006\n",
      "Epoch 79/100\n",
      "14355/14355 [==============================] - 6s 414us/step - loss: 0.8445 - acc: 0.8481 - val_loss: 0.9508 - val_acc: 0.7996\n",
      "Epoch 80/100\n",
      "14355/14355 [==============================] - 6s 420us/step - loss: 0.8349 - acc: 0.8484 - val_loss: 0.9511 - val_acc: 0.7996\n",
      "Epoch 81/100\n",
      "14355/14355 [==============================] - 6s 419us/step - loss: 0.8214 - acc: 0.8498 - val_loss: 0.9479 - val_acc: 0.8003\n",
      "Epoch 82/100\n",
      "14355/14355 [==============================] - 6s 423us/step - loss: 0.8206 - acc: 0.8507 - val_loss: 0.9466 - val_acc: 0.8003\n",
      "Epoch 83/100\n",
      "14355/14355 [==============================] - 6s 431us/step - loss: 0.8234 - acc: 0.8504 - val_loss: 0.9454 - val_acc: 0.7999\n",
      "Epoch 84/100\n",
      "14355/14355 [==============================] - 6s 436us/step - loss: 0.8089 - acc: 0.8540 - val_loss: 0.9456 - val_acc: 0.8003\n",
      "Epoch 85/100\n",
      "14355/14355 [==============================] - 6s 430us/step - loss: 0.8067 - acc: 0.8552 - val_loss: 0.9429 - val_acc: 0.8003\n",
      "Epoch 86/100\n",
      "14355/14355 [==============================] - 6s 422us/step - loss: 0.7967 - acc: 0.8576 - val_loss: 0.9414 - val_acc: 0.8009\n",
      "Epoch 87/100\n",
      "14355/14355 [==============================] - 6s 422us/step - loss: 0.7951 - acc: 0.8571 - val_loss: 0.9401 - val_acc: 0.8025\n",
      "Epoch 88/100\n",
      "14355/14355 [==============================] - 6s 424us/step - loss: 0.7957 - acc: 0.8544 - val_loss: 0.9392 - val_acc: 0.8016\n",
      "Epoch 89/100\n",
      "14355/14355 [==============================] - 6s 419us/step - loss: 0.7884 - acc: 0.8562 - val_loss: 0.9393 - val_acc: 0.8022\n",
      "Epoch 90/100\n",
      "14355/14355 [==============================] - 6s 428us/step - loss: 0.7827 - acc: 0.8610 - val_loss: 0.9373 - val_acc: 0.8016\n",
      "Epoch 91/100\n",
      "13470/14355 [===========================>..] - ETA: 0s - loss: 0.7790 - acc: 0.8561"
     ]
    }
   ],
   "source": [
    "epochs = 100  \n",
    "batch_size = 30\n",
    "from keras.optimizers import SGD, Adam, Nadam\n",
    "#opt = Adam(lr=0.0001)\n",
    "opt = Adam(lr= 0.00001)\n",
    "modelx.compile(loss = \"categorical_crossentropy\", optimizer = opt, metrics=['accuracy'])\n",
    "history = modelx.fit(train_data, train_labels,  \n",
    "          epochs=epochs,  \n",
    "          batch_size=batch_size,  \n",
    "          validation_data=(validation_data, validation_labels))  "
   ]
  },
  {
   "cell_type": "code",
   "execution_count": 80,
   "metadata": {},
   "outputs": [
    {
     "name": "stdout",
     "output_type": "stream",
     "text": [
      "3141/3141 [==============================] - 1s 318us/step\n",
      "[INFO] accuracy: 78.03%\n",
      "[INFO] Loss: 1.033141862156284\n"
     ]
    }
   ],
   "source": [
    "modelx.save_weights(top_model_weights_path)  \n",
    "   \n",
    "(eval_loss, eval_accuracy) = modelx.evaluate(test_data, test_labels, batch_size=batch_size, verbose=1)\n",
    "\n",
    "print(\"[INFO] accuracy: {:.2f}%\".format(eval_accuracy * 100))  \n",
    "print(\"[INFO] Loss: {}\".format(eval_loss))  "
   ]
  },
  {
   "cell_type": "code",
   "execution_count": 81,
   "metadata": {},
   "outputs": [
    {
     "data": {
      "text/plain": [
       "<matplotlib.legend.Legend at 0x7f599b1961d0>"
      ]
     },
     "execution_count": 81,
     "metadata": {},
     "output_type": "execute_result"
    },
    {
     "data": {
      "image/png": "[encoded data removed]",
      "text/plain": [
       "<Figure size 432x288 with 1 Axes>"
      ]
     },
     "metadata": {
      "needs_background": "light"
     },
     "output_type": "display_data"
    }
   ],
   "source": [
    "plt.figure(1)  \n",
    "   \n",
    "# summarize history for accuracy  \n",
    "   \n",
    "plt.subplot(211)  \n",
    "plt.plot(history.history['acc'])  \n",
    "plt.plot(history.history['val_acc'])  \n",
    "plt.title('model accuracy')  \n",
    "plt.ylabel('accuracy')  \n",
    "plt.xlabel('epoch')  \n",
    "plt.legend(['train', 'val'], loc='upper left')  \n",
    "   \n"
   ]
  },
  {
   "cell_type": "code",
   "execution_count": 72,
   "metadata": {},
   "outputs": [
    {
     "data": {
      "image/png": "[encoded data removed]",
      "text/plain": [
       "<Figure size 432x288 with 1 Axes>"
      ]
     },
     "metadata": {
      "needs_background": "light"
     },
     "output_type": "display_data"
    }
   ],
   "source": [
    "# summarize history for loss  \n",
    "\n",
    "plt.subplot(212)  \n",
    "plt.plot(history.history['loss'])  \n",
    "plt.plot(history.history['val_loss'])  \n",
    "plt.title('model loss')  \n",
    "plt.ylabel('loss')  \n",
    "plt.xlabel('epoch')  \n",
    "plt.legend(['train', 'val'], loc='upper left')  \n",
    "plt.show()  "
   ]
  },
  {
   "cell_type": "code",
   "execution_count": null,
   "metadata": {},
   "outputs": [],
   "source": [
    "inID = class_predicted[0]  \n",
    "   \n",
    "class_dictionary = generator_top.class_indices  \n",
    "   \n",
    "inv_map = {v: k for k, v in class_dictionary.items()}  \n",
    "   \n",
    "label = inv_map[inID]  \n",
    "   \n",
    " # get the prediction label  \n",
    "print(\"Image ID: {}, Label: {}\".format(inID, label))  \n",
    "   \n",
    " # display the predictions with the image  \n",
    "cv2.putText(orig, \"Predicted: {}\".format(label), (10, 30), cv2.FONT_HERSHEY_PLAIN, 1.5, (43, 99, 255), 2)  \n",
    "   \n",
    "cv2.imshow(\"Classification\", orig)  \n",
    "cv2.waitKey(0)  \n",
    "cv2.destroyAllWindows()  "
   ]
  }
 ],
 "metadata": {
  "kernelspec": {
   "display_name": "Python 3",
   "language": "python",
   "name": "python3"
  },
  "language_info": {
   "codemirror_mode": {
    "name": "ipython",
    "version": 3
   },
   "file_extension": ".py",
   "mimetype": "text/x-python",
   "name": "python",
   "nbconvert_exporter": "python",
   "pygments_lexer": "ipython3",
   "version": "3.5.5"
  }
 },
 "nbformat": 4,
 "nbformat_minor": 2
}
